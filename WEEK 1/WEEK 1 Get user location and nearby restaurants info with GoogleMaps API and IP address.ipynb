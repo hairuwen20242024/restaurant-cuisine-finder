{
 "cells": [
  {
   "cell_type": "markdown",
   "id": "14235dd7-535c-4a53-bbd7-024374fcb18c",
   "metadata": {},
   "source": [
    "# WEEK 1 - Get user location with GoogleMaps API and IP address"
   ]
  },
  {
   "cell_type": "markdown",
   "id": "a3d96934-7600-4942-8d2f-0c0242e3cf47",
   "metadata": {},
   "source": [
    "## Tasks to do in this week.\n",
    "1 Explore various location APIs both open source and closed source. Document it and share a pdf file. Should be one page per API. Also mention Official documentation URL for That API.\n",
    "\n",
    "2 Select an API let say Google Map API to get current location of a user.\n",
    "\n",
    "3 Get area Span from the user lets say 5 miles, 10 miles, 20 miles from the user.\n",
    "\n",
    "4 Use the selected API and area span to collect the data from the Google Map API about various restaurants and cuisines present in that location under the area span.\n",
    "\n",
    "5 Get all data and store it in a csv format."
   ]
  },
  {
   "cell_type": "markdown",
   "id": "a057bbe3-ee00-444c-ae1d-285fef2f1ff2",
   "metadata": {},
   "source": [
    "## Code for Getting User Location"
   ]
  },
  {
   "cell_type": "code",
   "execution_count": 8,
   "id": "742e6590-42e3-403c-a95d-4aaec28ec446",
   "metadata": {},
   "outputs": [
    {
     "name": "stdout",
     "output_type": "stream",
     "text": [
      "Requirement already satisfied: googlemaps in d:\\anaconda3\\lib\\site-packages (4.10.0)\n",
      "Requirement already satisfied: requests<3.0,>=2.20.0 in d:\\anaconda3\\lib\\site-packages (from googlemaps) (2.31.0)\n",
      "Requirement already satisfied: charset-normalizer<4,>=2 in d:\\anaconda3\\lib\\site-packages (from requests<3.0,>=2.20.0->googlemaps) (2.0.4)\n",
      "Requirement already satisfied: idna<4,>=2.5 in d:\\anaconda3\\lib\\site-packages (from requests<3.0,>=2.20.0->googlemaps) (3.4)\n",
      "Requirement already satisfied: urllib3<3,>=1.21.1 in d:\\anaconda3\\lib\\site-packages (from requests<3.0,>=2.20.0->googlemaps) (2.0.7)\n",
      "Requirement already satisfied: certifi>=2017.4.17 in d:\\anaconda3\\lib\\site-packages (from requests<3.0,>=2.20.0->googlemaps) (2024.2.2)\n"
     ]
    }
   ],
   "source": [
    "!pip install googlemaps\n",
    "import googlemaps\n",
    "\n",
    "def get_user_location(api_key):\n",
    "    gmaps = googlemaps.Client(key=api_key)\n",
    "    # This is a placeholder for actual implementation\n",
    "    # Get location from user input or device\n",
    "    user_location = gmaps.geolocate()\n",
    "    return user_location['location']['lat'], user_location['location']['lng']\n"
   ]
  },
  {
   "cell_type": "markdown",
   "id": "d6551c69-49f2-4843-aba2-22b9b252a2c3",
   "metadata": {},
   "source": [
    "## Code for Getting Restaurants within Area Span & \n",
    "## Get user location using \" gmaps.geolocate() \""
   ]
  },
  {
   "cell_type": "code",
   "execution_count": 10,
   "id": "867ef3b9-cd0d-4e67-95f3-2d3ae3612b14",
   "metadata": {},
   "outputs": [],
   "source": [
    "import googlemaps\n",
    "import csv\n",
    "\n",
    "def get_restaurants(api_key, lat, lng, radius):\n",
    "    gmaps = googlemaps.Client(key=api_key)\n",
    "    places_result = gmaps.places_nearby(location=(lat, lng), radius=radius, type='restaurant')\n",
    "    return places_result['results']\n",
    "\n",
    "def save_to_csv(data, filename='restaurants.csv'):\n",
    "    # Extract all field names \n",
    "    all_keys = set()\n",
    "    for item in data:\n",
    "        all_keys.update(item.keys())\n",
    "    all_keys = list(all_keys)\n",
    "    \n",
    "    with open(filename, 'w', newline='', encoding='utf-8') as output_file:\n",
    "        dict_writer = csv.DictWriter(output_file, fieldnames=all_keys)\n",
    "        dict_writer.writeheader()\n",
    "        dict_writer.writerows(data)\n",
    "\n",
    "# Get user location with \" gmaps.geolocate() \"\n",
    "def get_user_location(api_key):\n",
    "    gmaps = googlemaps.Client(key=api_key)\n",
    "    # Use \"Geolocation API\"to get location of user\n",
    "    location = gmaps.geolocate()\n",
    "    return location['location']['lat'], location['location']['lng']\n",
    "\n",
    "# Get result with API\n",
    "api_key = 'MY_GoogleMaps_API_KEY'  # API key example.\n",
    "lat, lng = get_user_location(api_key)\n",
    "radius = 8046.72  # radius in meters: 5miles(later change it to input from user)\n",
    "restaurants = get_restaurants(api_key, lat, lng, radius)\n",
    "save_to_csv(restaurants)\n"
   ]
  },
  {
   "cell_type": "markdown",
   "id": "eee83218-8cf1-497c-8f39-1799e0fb71d1",
   "metadata": {},
   "source": [
    "## Get user location using IP address"
   ]
  },
  {
   "cell_type": "code",
   "execution_count": 4,
   "id": "eb221aab-e359-47ee-887d-0eddf55a206e",
   "metadata": {},
   "outputs": [],
   "source": [
    "import requests\n",
    "import googlemaps\n",
    "import csv\n",
    "\n",
    "# Function to get location from IP address using ipinfo.io\n",
    "def get_location_from_ip():\n",
    "    response = requests.get('https://ipinfo.io')\n",
    "    data = response.json()\n",
    "    loc = data['loc'].split(',')\n",
    "    lat = float(loc[0])\n",
    "    lng = float(loc[1])\n",
    "    return lat, lng\n",
    "\n",
    "def get_restaurants(api_key, lat, lng, radius):\n",
    "    gmaps = googlemaps.Client(key=api_key)\n",
    "    places_result = gmaps.places_nearby(location=(lat, lng), radius=radius, type='restaurant')\n",
    "    return places_result['results']\n",
    "\n",
    "def save_to_csv(data, filename='restaurants_IP.csv'):\n",
    "    # Extract all field names\n",
    "    all_keys = set()\n",
    "    for item in data:\n",
    "        all_keys.update(item.keys())\n",
    "    all_keys = list(all_keys)\n",
    "    \n",
    "    with open(filename, 'w', newline='', encoding='utf-8') as output_file:\n",
    "        dict_writer = csv.DictWriter(output_file, fieldnames=all_keys)\n",
    "        dict_writer.writeheader()\n",
    "        dict_writer.writerows(data)\n",
    "\n",
    "# Get location using IP address\n",
    "lat, lng = get_location_from_ip()\n",
    "\n",
    "# Example: Using Google Maps API to get restaurants data\n",
    "api_key = 'MY_GoogleMaps_API_KEY'  \n",
    "radius = 8046.72  # Example radius in meters (5 miles)\n",
    "restaurants = get_restaurants(api_key, lat, lng, radius)\n",
    "save_to_csv(restaurants)\n"
   ]
  }
 ],
 "metadata": {
  "kernelspec": {
   "display_name": "Python 3 (ipykernel)",
   "language": "python",
   "name": "python3"
  },
  "language_info": {
   "codemirror_mode": {
    "name": "ipython",
    "version": 3
   },
   "file_extension": ".py",
   "mimetype": "text/x-python",
   "name": "python",
   "nbconvert_exporter": "python",
   "pygments_lexer": "ipython3",
   "version": "3.11.7"
  }
 },
 "nbformat": 4,
 "nbformat_minor": 5
}
